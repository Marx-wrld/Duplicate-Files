{
 "cells": [
  {
   "cell_type": "code",
   "execution_count": 2,
   "id": "c337ae79",
   "metadata": {},
   "outputs": [
    {
     "name": "stdout",
     "output_type": "stream",
     "text": [
      "Duplicated 20663364864763700 10000 times and stored in duplicates.zip\n"
     ]
    }
   ],
   "source": [
    "import os\n",
    "import shutil\n",
    "import random\n",
    "import zipfile\n",
    "import tempfile\n",
    "\n",
    "def generate_random_id(length=17):\n",
    "    \"\"\"Generate a random numeric ID of the specified length.\"\"\"\n",
    "    return ''.join(random.choices('0123456789', k=length))\n",
    "\n",
    "def duplicate_file_to_zip(original_file, zip_filename, num_copies=10000):\n",
    "    \"\"\"Duplicate the given file num_copies times with unique ID names and store them in a zip file.\"\"\"\n",
    "    with tempfile.TemporaryDirectory() as temp_dir:\n",
    "        for _ in range(num_copies):\n",
    "            new_id = generate_random_id()\n",
    "            new_filename = os.path.join(temp_dir, new_id)\n",
    "            shutil.copyfile(original_file, new_filename)\n",
    "        \n",
    "        # Create a zip file and add all the duplicated files to it\n",
    "        with zipfile.ZipFile(zip_filename, 'w') as zipf:\n",
    "            for root, _, files in os.walk(temp_dir):\n",
    "                for file in files:\n",
    "                    file_path = os.path.join(root, file)\n",
    "                    zipf.write(file_path, arcname=file)\n",
    "\n",
    "    print(f\"Duplicated {original_file} {num_copies} times and stored in {zip_filename}\")\n",
    "\n",
    "# Specify the path to the original file and the output zip file\n",
    "original_file = '20663364864763700'\n",
    "zip_filename = 'duplicates.zip'\n",
    "\n",
    "# Duplicate the file 10,000 times and store them in a zip file\n",
    "duplicate_file_to_zip(original_file, zip_filename)\n"
   ]
  },
  {
   "cell_type": "code",
   "execution_count": null,
   "id": "26a130c0",
   "metadata": {},
   "outputs": [],
   "source": []
  }
 ],
 "metadata": {
  "kernelspec": {
   "display_name": "Python 3 (ipykernel)",
   "language": "python",
   "name": "python3"
  },
  "language_info": {
   "codemirror_mode": {
    "name": "ipython",
    "version": 3
   },
   "file_extension": ".py",
   "mimetype": "text/x-python",
   "name": "python",
   "nbconvert_exporter": "python",
   "pygments_lexer": "ipython3",
   "version": "3.11.7"
  }
 },
 "nbformat": 4,
 "nbformat_minor": 5
}
